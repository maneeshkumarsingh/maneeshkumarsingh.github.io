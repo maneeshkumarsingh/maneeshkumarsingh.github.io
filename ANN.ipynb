{
 "cells": [
  {
   "cell_type": "code",
   "execution_count": 1,
   "metadata": {},
   "outputs": [],
   "source": [
    "import pandas as pd\n",
    "import numpy as np\n",
    "import matplotlib.pyplot as plt \n",
    "%matplotlib inline\n",
    "from scipy import stats\n",
    "from numpy.random import seed\n",
    "from numpy.random import randn\n",
    "from numpy import mean\n",
    "from numpy import std\n",
    "import seaborn as sns\n"
   ]
  },
  {
   "cell_type": "code",
   "execution_count": 2,
   "metadata": {},
   "outputs": [],
   "source": [
    "df=pd.read_csv('Churn_Modelling.csv')"
   ]
  },
  {
   "cell_type": "code",
   "execution_count": 3,
   "metadata": {
    "scrolled": false
   },
   "outputs": [
    {
     "data": {
      "text/html": [
       "<div>\n",
       "<style scoped>\n",
       "    .dataframe tbody tr th:only-of-type {\n",
       "        vertical-align: middle;\n",
       "    }\n",
       "\n",
       "    .dataframe tbody tr th {\n",
       "        vertical-align: top;\n",
       "    }\n",
       "\n",
       "    .dataframe thead th {\n",
       "        text-align: right;\n",
       "    }\n",
       "</style>\n",
       "<table border=\"1\" class=\"dataframe\">\n",
       "  <thead>\n",
       "    <tr style=\"text-align: right;\">\n",
       "      <th></th>\n",
       "      <th>RowNumber</th>\n",
       "      <th>CustomerId</th>\n",
       "      <th>Surname</th>\n",
       "      <th>CreditScore</th>\n",
       "      <th>Geography</th>\n",
       "      <th>Gender</th>\n",
       "      <th>Age</th>\n",
       "      <th>Tenure</th>\n",
       "      <th>Balance</th>\n",
       "      <th>NumOfProducts</th>\n",
       "      <th>HasCrCard</th>\n",
       "      <th>IsActiveMember</th>\n",
       "      <th>EstimatedSalary</th>\n",
       "      <th>Exited</th>\n",
       "    </tr>\n",
       "  </thead>\n",
       "  <tbody>\n",
       "    <tr>\n",
       "      <th>0</th>\n",
       "      <td>1</td>\n",
       "      <td>15634602</td>\n",
       "      <td>Hargrave</td>\n",
       "      <td>619</td>\n",
       "      <td>France</td>\n",
       "      <td>Female</td>\n",
       "      <td>42</td>\n",
       "      <td>2</td>\n",
       "      <td>0.00</td>\n",
       "      <td>1</td>\n",
       "      <td>1</td>\n",
       "      <td>1</td>\n",
       "      <td>101348.88</td>\n",
       "      <td>1</td>\n",
       "    </tr>\n",
       "    <tr>\n",
       "      <th>1</th>\n",
       "      <td>2</td>\n",
       "      <td>15647311</td>\n",
       "      <td>Hill</td>\n",
       "      <td>608</td>\n",
       "      <td>Spain</td>\n",
       "      <td>Female</td>\n",
       "      <td>41</td>\n",
       "      <td>1</td>\n",
       "      <td>83807.86</td>\n",
       "      <td>1</td>\n",
       "      <td>0</td>\n",
       "      <td>1</td>\n",
       "      <td>112542.58</td>\n",
       "      <td>0</td>\n",
       "    </tr>\n",
       "    <tr>\n",
       "      <th>2</th>\n",
       "      <td>3</td>\n",
       "      <td>15619304</td>\n",
       "      <td>Onio</td>\n",
       "      <td>502</td>\n",
       "      <td>France</td>\n",
       "      <td>Female</td>\n",
       "      <td>42</td>\n",
       "      <td>8</td>\n",
       "      <td>159660.80</td>\n",
       "      <td>3</td>\n",
       "      <td>1</td>\n",
       "      <td>0</td>\n",
       "      <td>113931.57</td>\n",
       "      <td>1</td>\n",
       "    </tr>\n",
       "    <tr>\n",
       "      <th>3</th>\n",
       "      <td>4</td>\n",
       "      <td>15701354</td>\n",
       "      <td>Boni</td>\n",
       "      <td>699</td>\n",
       "      <td>France</td>\n",
       "      <td>Female</td>\n",
       "      <td>39</td>\n",
       "      <td>1</td>\n",
       "      <td>0.00</td>\n",
       "      <td>2</td>\n",
       "      <td>0</td>\n",
       "      <td>0</td>\n",
       "      <td>93826.63</td>\n",
       "      <td>0</td>\n",
       "    </tr>\n",
       "    <tr>\n",
       "      <th>4</th>\n",
       "      <td>5</td>\n",
       "      <td>15737888</td>\n",
       "      <td>Mitchell</td>\n",
       "      <td>850</td>\n",
       "      <td>Spain</td>\n",
       "      <td>Female</td>\n",
       "      <td>43</td>\n",
       "      <td>2</td>\n",
       "      <td>125510.82</td>\n",
       "      <td>1</td>\n",
       "      <td>1</td>\n",
       "      <td>1</td>\n",
       "      <td>79084.10</td>\n",
       "      <td>0</td>\n",
       "    </tr>\n",
       "  </tbody>\n",
       "</table>\n",
       "</div>"
      ],
      "text/plain": [
       "   RowNumber  CustomerId   Surname  CreditScore Geography  Gender  Age  \\\n",
       "0          1    15634602  Hargrave          619    France  Female   42   \n",
       "1          2    15647311      Hill          608     Spain  Female   41   \n",
       "2          3    15619304      Onio          502    France  Female   42   \n",
       "3          4    15701354      Boni          699    France  Female   39   \n",
       "4          5    15737888  Mitchell          850     Spain  Female   43   \n",
       "\n",
       "   Tenure    Balance  NumOfProducts  HasCrCard  IsActiveMember  \\\n",
       "0       2       0.00              1          1               1   \n",
       "1       1   83807.86              1          0               1   \n",
       "2       8  159660.80              3          1               0   \n",
       "3       1       0.00              2          0               0   \n",
       "4       2  125510.82              1          1               1   \n",
       "\n",
       "   EstimatedSalary  Exited  \n",
       "0        101348.88       1  \n",
       "1        112542.58       0  \n",
       "2        113931.57       1  \n",
       "3         93826.63       0  \n",
       "4         79084.10       0  "
      ]
     },
     "execution_count": 3,
     "metadata": {},
     "output_type": "execute_result"
    }
   ],
   "source": [
    "df.head()"
   ]
  },
  {
   "cell_type": "code",
   "execution_count": 4,
   "metadata": {},
   "outputs": [
    {
     "data": {
      "text/plain": [
       "(10000, 14)"
      ]
     },
     "execution_count": 4,
     "metadata": {},
     "output_type": "execute_result"
    }
   ],
   "source": [
    "df.shape"
   ]
  },
  {
   "cell_type": "code",
   "execution_count": 5,
   "metadata": {},
   "outputs": [],
   "source": [
    "df=df.drop('Surname',axis=1)"
   ]
  },
  {
   "cell_type": "code",
   "execution_count": 6,
   "metadata": {
    "scrolled": false
   },
   "outputs": [
    {
     "data": {
      "text/html": [
       "<div>\n",
       "<style scoped>\n",
       "    .dataframe tbody tr th:only-of-type {\n",
       "        vertical-align: middle;\n",
       "    }\n",
       "\n",
       "    .dataframe tbody tr th {\n",
       "        vertical-align: top;\n",
       "    }\n",
       "\n",
       "    .dataframe thead th {\n",
       "        text-align: right;\n",
       "    }\n",
       "</style>\n",
       "<table border=\"1\" class=\"dataframe\">\n",
       "  <thead>\n",
       "    <tr style=\"text-align: right;\">\n",
       "      <th></th>\n",
       "      <th>RowNumber</th>\n",
       "      <th>CustomerId</th>\n",
       "      <th>CreditScore</th>\n",
       "      <th>Age</th>\n",
       "      <th>Tenure</th>\n",
       "      <th>Balance</th>\n",
       "      <th>NumOfProducts</th>\n",
       "      <th>HasCrCard</th>\n",
       "      <th>IsActiveMember</th>\n",
       "      <th>EstimatedSalary</th>\n",
       "      <th>Exited</th>\n",
       "      <th>Male</th>\n",
       "      <th>Germany</th>\n",
       "      <th>Spain</th>\n",
       "    </tr>\n",
       "  </thead>\n",
       "  <tbody>\n",
       "    <tr>\n",
       "      <th>0</th>\n",
       "      <td>1</td>\n",
       "      <td>15634602</td>\n",
       "      <td>619</td>\n",
       "      <td>42</td>\n",
       "      <td>2</td>\n",
       "      <td>0.00</td>\n",
       "      <td>1</td>\n",
       "      <td>1</td>\n",
       "      <td>1</td>\n",
       "      <td>101348.88</td>\n",
       "      <td>1</td>\n",
       "      <td>0</td>\n",
       "      <td>0</td>\n",
       "      <td>0</td>\n",
       "    </tr>\n",
       "    <tr>\n",
       "      <th>1</th>\n",
       "      <td>2</td>\n",
       "      <td>15647311</td>\n",
       "      <td>608</td>\n",
       "      <td>41</td>\n",
       "      <td>1</td>\n",
       "      <td>83807.86</td>\n",
       "      <td>1</td>\n",
       "      <td>0</td>\n",
       "      <td>1</td>\n",
       "      <td>112542.58</td>\n",
       "      <td>0</td>\n",
       "      <td>0</td>\n",
       "      <td>0</td>\n",
       "      <td>1</td>\n",
       "    </tr>\n",
       "    <tr>\n",
       "      <th>2</th>\n",
       "      <td>3</td>\n",
       "      <td>15619304</td>\n",
       "      <td>502</td>\n",
       "      <td>42</td>\n",
       "      <td>8</td>\n",
       "      <td>159660.80</td>\n",
       "      <td>3</td>\n",
       "      <td>1</td>\n",
       "      <td>0</td>\n",
       "      <td>113931.57</td>\n",
       "      <td>1</td>\n",
       "      <td>0</td>\n",
       "      <td>0</td>\n",
       "      <td>0</td>\n",
       "    </tr>\n",
       "    <tr>\n",
       "      <th>3</th>\n",
       "      <td>4</td>\n",
       "      <td>15701354</td>\n",
       "      <td>699</td>\n",
       "      <td>39</td>\n",
       "      <td>1</td>\n",
       "      <td>0.00</td>\n",
       "      <td>2</td>\n",
       "      <td>0</td>\n",
       "      <td>0</td>\n",
       "      <td>93826.63</td>\n",
       "      <td>0</td>\n",
       "      <td>0</td>\n",
       "      <td>0</td>\n",
       "      <td>0</td>\n",
       "    </tr>\n",
       "    <tr>\n",
       "      <th>4</th>\n",
       "      <td>5</td>\n",
       "      <td>15737888</td>\n",
       "      <td>850</td>\n",
       "      <td>43</td>\n",
       "      <td>2</td>\n",
       "      <td>125510.82</td>\n",
       "      <td>1</td>\n",
       "      <td>1</td>\n",
       "      <td>1</td>\n",
       "      <td>79084.10</td>\n",
       "      <td>0</td>\n",
       "      <td>0</td>\n",
       "      <td>0</td>\n",
       "      <td>1</td>\n",
       "    </tr>\n",
       "  </tbody>\n",
       "</table>\n",
       "</div>"
      ],
      "text/plain": [
       "   RowNumber  CustomerId  CreditScore  Age  Tenure    Balance  NumOfProducts  \\\n",
       "0          1    15634602          619   42       2       0.00              1   \n",
       "1          2    15647311          608   41       1   83807.86              1   \n",
       "2          3    15619304          502   42       8  159660.80              3   \n",
       "3          4    15701354          699   39       1       0.00              2   \n",
       "4          5    15737888          850   43       2  125510.82              1   \n",
       "\n",
       "   HasCrCard  IsActiveMember  EstimatedSalary  Exited  Male  Germany  Spain  \n",
       "0          1               1        101348.88       1     0        0      0  \n",
       "1          0               1        112542.58       0     0        0      1  \n",
       "2          1               0        113931.57       1     0        0      0  \n",
       "3          0               0         93826.63       0     0        0      0  \n",
       "4          1               1         79084.10       0     0        0      1  "
      ]
     },
     "execution_count": 6,
     "metadata": {},
     "output_type": "execute_result"
    }
   ],
   "source": [
    "hu=pd.get_dummies(df.Gender,drop_first=True)\n",
    "df=pd.concat([df,hu],axis=1)\n",
    "df.drop('Gender',axis=1,inplace=True)\n",
    "hu=pd.get_dummies(df.Geography,drop_first=True)\n",
    "df=pd.concat([df,hu],axis=1)\n",
    "df.drop('Geography',axis=1,inplace=True)\n",
    "df.head()\n"
   ]
  },
  {
   "cell_type": "code",
   "execution_count": 7,
   "metadata": {},
   "outputs": [],
   "source": [
    "x=df.drop('Exited',axis=1)\n",
    "y=df['Exited']"
   ]
  },
  {
   "cell_type": "code",
   "execution_count": 8,
   "metadata": {},
   "outputs": [],
   "source": [
    "from sklearn.model_selection import train_test_split\n",
    "\n",
    "X_train, X_test, y_train, y_test = train_test_split(x, y, test_size=0.2, random_state=0)"
   ]
  },
  {
   "cell_type": "code",
   "execution_count": 9,
   "metadata": {
    "scrolled": true
   },
   "outputs": [
    {
     "name": "stderr",
     "output_type": "stream",
     "text": [
      "C:\\Users\\MANEESH\\Anaconda3\\lib\\site-packages\\sklearn\\preprocessing\\data.py:617: DataConversionWarning: Data with input dtype uint8, int64, float64 were all converted to float64 by StandardScaler.\n",
      "  return self.partial_fit(X, y)\n",
      "C:\\Users\\MANEESH\\Anaconda3\\lib\\site-packages\\sklearn\\base.py:462: DataConversionWarning: Data with input dtype uint8, int64, float64 were all converted to float64 by StandardScaler.\n",
      "  return self.fit(X, **fit_params).transform(X)\n",
      "C:\\Users\\MANEESH\\Anaconda3\\lib\\site-packages\\ipykernel_launcher.py:4: DataConversionWarning: Data with input dtype uint8, int64, float64 were all converted to float64 by StandardScaler.\n",
      "  after removing the cwd from sys.path.\n"
     ]
    }
   ],
   "source": [
    "from sklearn.preprocessing import StandardScaler\n",
    "sc = StandardScaler()\n",
    "X_train = sc.fit_transform(X_train)\n",
    "X_test = sc.transform(X_test)"
   ]
  },
  {
   "cell_type": "code",
   "execution_count": 10,
   "metadata": {},
   "outputs": [
    {
     "data": {
      "text/plain": [
       "(2000, 13)"
      ]
     },
     "execution_count": 10,
     "metadata": {},
     "output_type": "execute_result"
    }
   ],
   "source": [
    "X_test.shape"
   ]
  },
  {
   "cell_type": "code",
   "execution_count": 11,
   "metadata": {},
   "outputs": [
    {
     "name": "stderr",
     "output_type": "stream",
     "text": [
      "Using TensorFlow backend.\n"
     ]
    }
   ],
   "source": [
    "import keras"
   ]
  },
  {
   "cell_type": "code",
   "execution_count": 12,
   "metadata": {},
   "outputs": [],
   "source": [
    "# 2 way difining deel leang layer \n",
    "# 1 seq for ann\n",
    "from keras.models import Sequential\n",
    "#2 for initi for layer in ann\n",
    "from keras.layers import Dense"
   ]
  },
  {
   "cell_type": "code",
   "execution_count": 13,
   "metadata": {},
   "outputs": [],
   "source": [
    "# nn build  clasifiere \n",
    "# inisilis ann for classifire\n",
    "classifier = Sequential()"
   ]
  },
  {
   "cell_type": "code",
   "execution_count": 14,
   "metadata": {},
   "outputs": [
    {
     "name": "stderr",
     "output_type": "stream",
     "text": [
      "C:\\Users\\MANEESH\\Anaconda3\\lib\\site-packages\\ipykernel_launcher.py:2: UserWarning: Update your `Dense` call to the Keras 2 API: `Dense(activation=\"relu\", input_dim=13, units=6, kernel_initializer=\"uniform\")`\n",
      "  \n"
     ]
    }
   ],
   "source": [
    "# Adding layere ,, input layer and 1 hidden layer, already know input layer from data , all independ variyebal\n",
    "classifier.add(Dense(output_dim=6,init='uniform', activation='relu',input_dim=13))"
   ]
  },
  {
   "cell_type": "code",
   "execution_count": 15,
   "metadata": {},
   "outputs": [
    {
     "name": "stderr",
     "output_type": "stream",
     "text": [
      "C:\\Users\\MANEESH\\Anaconda3\\lib\\site-packages\\ipykernel_launcher.py:2: UserWarning: Update your `Dense` call to the Keras 2 API: `Dense(activation=\"relu\", units=6, kernel_initializer=\"uniform\")`\n",
      "  \n"
     ]
    }
   ],
   "source": [
    "# second hidden layer\n",
    "classifier.add(Dense(output_dim=6,init='uniform', activation='relu'))"
   ]
  },
  {
   "cell_type": "code",
   "execution_count": 16,
   "metadata": {},
   "outputs": [
    {
     "name": "stderr",
     "output_type": "stream",
     "text": [
      "C:\\Users\\MANEESH\\Anaconda3\\lib\\site-packages\\ipykernel_launcher.py:3: UserWarning: Update your `Dense` call to the Keras 2 API: `Dense(activation=\"sigmoid\", units=1, kernel_initializer=\"uniform\")`\n",
      "  This is separate from the ipykernel package so we can avoid doing imports until\n"
     ]
    }
   ],
   "source": [
    "# out put lyaer\n",
    "# dim =1 bcz only one catogory, more then 2 cotg use softmax space of sygmoic\n",
    "classifier.add(Dense(output_dim=1, init='uniform', activation='sigmoid'))"
   ]
  },
  {
   "cell_type": "code",
   "execution_count": 17,
   "metadata": {},
   "outputs": [],
   "source": [
    "# init compli for optimiz wait \n",
    "classifier.compile(optimizer='adam', loss= 'binary_crossentropy', metrics=['accuracy'])"
   ]
  },
  {
   "cell_type": "code",
   "execution_count": 18,
   "metadata": {},
   "outputs": [
    {
     "name": "stderr",
     "output_type": "stream",
     "text": [
      "C:\\Users\\MANEESH\\Anaconda3\\lib\\site-packages\\ipykernel_launcher.py:2: UserWarning: The `nb_epoch` argument in `fit` has been renamed `epochs`.\n",
      "  \n"
     ]
    },
    {
     "name": "stdout",
     "output_type": "stream",
     "text": [
      "Epoch 1/100\n",
      "8000/8000 [==============================] - 7s 881us/step - loss: 0.4899 - acc: 0.7951\n",
      "Epoch 2/100\n",
      "8000/8000 [==============================] - 2s 257us/step - loss: 0.4299 - acc: 0.7960\n",
      "Epoch 3/100\n",
      "8000/8000 [==============================] - 2s 220us/step - loss: 0.4250 - acc: 0.7960\n",
      "Epoch 4/100\n",
      "8000/8000 [==============================] - 2s 206us/step - loss: 0.4210 - acc: 0.8055\n",
      "Epoch 5/100\n",
      "8000/8000 [==============================] - ETA: 0s - loss: 0.4181 - acc: 0.8235- ETA: - 2s 270us/step - loss: 0.4180 - acc: 0.8235\n",
      "Epoch 6/100\n",
      "8000/8000 [==============================] - 3s 369us/step - loss: 0.4156 - acc: 0.8267\n",
      "Epoch 7/100\n",
      "8000/8000 [==============================] - 2s 278us/step - loss: 0.4139 - acc: 0.8311\n",
      "Epoch 8/100\n",
      "8000/8000 [==============================] - 2s 223us/step - loss: 0.4124 - acc: 0.8315\n",
      "Epoch 9/100\n",
      "8000/8000 [==============================] - 2s 224us/step - loss: 0.4111 - acc: 0.8326\n",
      "Epoch 10/100\n",
      "8000/8000 [==============================] - 2s 274us/step - loss: 0.4097 - acc: 0.8337\n",
      "Epoch 11/100\n",
      "8000/8000 [==============================] - 3s 333us/step - loss: 0.4091 - acc: 0.8334\n",
      "Epoch 12/100\n",
      "8000/8000 [==============================] - 3s 325us/step - loss: 0.4087 - acc: 0.8332\n",
      "Epoch 13/100\n",
      "8000/8000 [==============================] - 3s 340us/step - loss: 0.4078 - acc: 0.8335\n",
      "Epoch 14/100\n",
      "8000/8000 [==============================] - 2s 212us/step - loss: 0.4073 - acc: 0.8335\n",
      "Epoch 15/100\n",
      "8000/8000 [==============================] - 2s 247us/step - loss: 0.4062 - acc: 0.8354\n",
      "Epoch 16/100\n",
      "8000/8000 [==============================] - 2s 244us/step - loss: 0.4063 - acc: 0.8346\n",
      "Epoch 17/100\n",
      "8000/8000 [==============================] - 2s 297us/step - loss: 0.4061 - acc: 0.8354\n",
      "Epoch 18/100\n",
      "8000/8000 [==============================] - 2s 268us/step - loss: 0.4052 - acc: 0.8347\n",
      "Epoch 19/100\n",
      "8000/8000 [==============================] - 2s 205us/step - loss: 0.4052 - acc: 0.8342\n",
      "Epoch 20/100\n",
      "8000/8000 [==============================] - 2s 223us/step - loss: 0.4044 - acc: 0.8354\n",
      "Epoch 21/100\n",
      "8000/8000 [==============================] - 2s 240us/step - loss: 0.4043 - acc: 0.8345\n",
      "Epoch 22/100\n",
      "8000/8000 [==============================] - 2s 218us/step - loss: 0.4043 - acc: 0.8341\n",
      "Epoch 23/100\n",
      "8000/8000 [==============================] - 2s 300us/step - loss: 0.4041 - acc: 0.8349\n",
      "Epoch 24/100\n",
      "8000/8000 [==============================] - 2s 267us/step - loss: 0.4040 - acc: 0.8351\n",
      "Epoch 25/100\n",
      "8000/8000 [==============================] - 3s 320us/step - loss: 0.4039 - acc: 0.8345\n",
      "Epoch 26/100\n",
      "8000/8000 [==============================] - 3s 344us/step - loss: 0.4034 - acc: 0.8344\n",
      "Epoch 27/100\n",
      "8000/8000 [==============================] - 3s 403us/step - loss: 0.4035 - acc: 0.8340\n",
      "Epoch 28/100\n",
      "8000/8000 [==============================] - 3s 370us/step - loss: 0.4030 - acc: 0.8354\n",
      "Epoch 29/100\n",
      "8000/8000 [==============================] - 2s 295us/step - loss: 0.4032 - acc: 0.8335\n",
      "Epoch 30/100\n",
      "8000/8000 [==============================] - 2s 240us/step - loss: 0.4026 - acc: 0.8350\n",
      "Epoch 31/100\n",
      "8000/8000 [==============================] - 2s 237us/step - loss: 0.4029 - acc: 0.8341\n",
      "Epoch 32/100\n",
      "8000/8000 [==============================] - 2s 306us/step - loss: 0.4026 - acc: 0.8342 3s - loss: 0.4210 - acc: - \n",
      "Epoch 33/100\n",
      "8000/8000 [==============================] - 1s 185us/step - loss: 0.4025 - acc: 0.8345\n",
      "Epoch 34/100\n",
      "8000/8000 [==============================] - 2s 199us/step - loss: 0.4022 - acc: 0.8346\n",
      "Epoch 35/100\n",
      "8000/8000 [==============================] - 2s 270us/step - loss: 0.4021 - acc: 0.8349\n",
      "Epoch 36/100\n",
      "8000/8000 [==============================] - 2s 239us/step - loss: 0.4023 - acc: 0.8337\n",
      "Epoch 37/100\n",
      "8000/8000 [==============================] - 2s 279us/step - loss: 0.4018 - acc: 0.8351\n",
      "Epoch 38/100\n",
      "8000/8000 [==============================] - 2s 238us/step - loss: 0.4015 - acc: 0.8337\n",
      "Epoch 39/100\n",
      "8000/8000 [==============================] - 2s 220us/step - loss: 0.4008 - acc: 0.8342\n",
      "Epoch 40/100\n",
      "8000/8000 [==============================] - 2s 229us/step - loss: 0.4005 - acc: 0.8334\n",
      "Epoch 41/100\n",
      "8000/8000 [==============================] - 2s 272us/step - loss: 0.4007 - acc: 0.8352\n",
      "Epoch 42/100\n",
      "8000/8000 [==============================] - 1s 183us/step - loss: 0.4001 - acc: 0.8342\n",
      "Epoch 43/100\n",
      "8000/8000 [==============================] - 1s 186us/step - loss: 0.4000 - acc: 0.8345\n",
      "Epoch 44/100\n",
      "8000/8000 [==============================] - 2s 250us/step - loss: 0.4001 - acc: 0.8356\n",
      "Epoch 45/100\n",
      "8000/8000 [==============================] - 2s 213us/step - loss: 0.3998 - acc: 0.8356\n",
      "Epoch 46/100\n",
      "8000/8000 [==============================] - 2s 216us/step - loss: 0.3995 - acc: 0.8346\n",
      "Epoch 47/100\n",
      "8000/8000 [==============================] - 2s 233us/step - loss: 0.3986 - acc: 0.8364 1s - loss: 0.3\n",
      "Epoch 48/100\n",
      "8000/8000 [==============================] - 2s 224us/step - loss: 0.3983 - acc: 0.8342\n",
      "Epoch 49/100\n",
      "8000/8000 [==============================] - 2s 218us/step - loss: 0.3982 - acc: 0.8355\n",
      "Epoch 50/100\n",
      "8000/8000 [==============================] - 2s 189us/step - loss: 0.3976 - acc: 0.8352\n",
      "Epoch 51/100\n",
      "8000/8000 [==============================] - 2s 229us/step - loss: 0.3977 - acc: 0.8346\n",
      "Epoch 52/100\n",
      "8000/8000 [==============================] - 2s 215us/step - loss: 0.3970 - acc: 0.8349\n",
      "Epoch 53/100\n",
      "8000/8000 [==============================] - 2s 218us/step - loss: 0.3971 - acc: 0.8354\n",
      "Epoch 54/100\n",
      "8000/8000 [==============================] - 2s 231us/step - loss: 0.3968 - acc: 0.8354\n",
      "Epoch 55/100\n",
      "8000/8000 [==============================] - 2s 213us/step - loss: 0.3970 - acc: 0.8364\n",
      "Epoch 56/100\n",
      "8000/8000 [==============================] - 2s 193us/step - loss: 0.3964 - acc: 0.8355\n",
      "Epoch 57/100\n",
      "8000/8000 [==============================] - 2s 195us/step - loss: 0.3962 - acc: 0.8366\n",
      "Epoch 58/100\n",
      "8000/8000 [==============================] - 2s 197us/step - loss: 0.3965 - acc: 0.8364\n",
      "Epoch 59/100\n",
      "8000/8000 [==============================] - 2s 205us/step - loss: 0.3962 - acc: 0.8361\n",
      "Epoch 60/100\n",
      "8000/8000 [==============================] - 2s 212us/step - loss: 0.3956 - acc: 0.8380\n",
      "Epoch 61/100\n",
      "8000/8000 [==============================] - 1s 184us/step - loss: 0.3958 - acc: 0.8355\n",
      "Epoch 62/100\n",
      "8000/8000 [==============================] - 1s 180us/step - loss: 0.3953 - acc: 0.8361\n",
      "Epoch 63/100\n",
      "8000/8000 [==============================] - 1s 172us/step - loss: 0.3954 - acc: 0.8360\n",
      "Epoch 64/100\n",
      "8000/8000 [==============================] - 1s 170us/step - loss: 0.3953 - acc: 0.8344\n",
      "Epoch 65/100\n",
      "8000/8000 [==============================] - 1s 175us/step - loss: 0.3955 - acc: 0.8349\n",
      "Epoch 66/100\n",
      "8000/8000 [==============================] - 1s 178us/step - loss: 0.3950 - acc: 0.8357\n",
      "Epoch 67/100\n",
      "8000/8000 [==============================] - 1s 177us/step - loss: 0.3954 - acc: 0.8370\n",
      "Epoch 68/100\n",
      "8000/8000 [==============================] - 1s 181us/step - loss: 0.3949 - acc: 0.8347\n",
      "Epoch 69/100\n",
      "8000/8000 [==============================] - 1s 173us/step - loss: 0.3953 - acc: 0.8354\n",
      "Epoch 70/100\n",
      "8000/8000 [==============================] - 2s 191us/step - loss: 0.3946 - acc: 0.8356\n",
      "Epoch 71/100\n",
      "8000/8000 [==============================] - 2s 192us/step - loss: 0.3948 - acc: 0.8366\n",
      "Epoch 72/100\n",
      "8000/8000 [==============================] - 2s 238us/step - loss: 0.3944 - acc: 0.8376\n",
      "Epoch 73/100\n",
      "8000/8000 [==============================] - 2s 200us/step - loss: 0.3945 - acc: 0.8365\n",
      "Epoch 74/100\n",
      "8000/8000 [==============================] - 2s 197us/step - loss: 0.3946 - acc: 0.8362\n",
      "Epoch 75/100\n",
      "8000/8000 [==============================] - 2s 204us/step - loss: 0.3943 - acc: 0.8370\n",
      "Epoch 76/100\n",
      "8000/8000 [==============================] - 2s 197us/step - loss: 0.3943 - acc: 0.8359\n",
      "Epoch 77/100\n",
      "8000/8000 [==============================] - 2s 203us/step - loss: 0.3941 - acc: 0.8365 0s - loss: 0.3864 -\n",
      "Epoch 78/100\n",
      "8000/8000 [==============================] - 1s 184us/step - loss: 0.3944 - acc: 0.8357\n",
      "Epoch 79/100\n",
      "8000/8000 [==============================] - 2s 192us/step - loss: 0.3941 - acc: 0.8371\n",
      "Epoch 80/100\n",
      "8000/8000 [==============================] - 2s 188us/step - loss: 0.3943 - acc: 0.8372\n",
      "Epoch 81/100\n"
     ]
    },
    {
     "name": "stdout",
     "output_type": "stream",
     "text": [
      "8000/8000 [==============================] - 1s 184us/step - loss: 0.3942 - acc: 0.8359\n",
      "Epoch 82/100\n",
      "8000/8000 [==============================] - 1s 186us/step - loss: 0.3934 - acc: 0.8365\n",
      "Epoch 83/100\n",
      "8000/8000 [==============================] - 2s 188us/step - loss: 0.3937 - acc: 0.8359\n",
      "Epoch 84/100\n",
      "8000/8000 [==============================] - 2s 198us/step - loss: 0.3942 - acc: 0.8369\n",
      "Epoch 85/100\n",
      "8000/8000 [==============================] - 2s 192us/step - loss: 0.3939 - acc: 0.8369\n",
      "Epoch 86/100\n",
      "8000/8000 [==============================] - 2s 200us/step - loss: 0.3939 - acc: 0.8365\n",
      "Epoch 87/100\n",
      "8000/8000 [==============================] - 2s 204us/step - loss: 0.3938 - acc: 0.8360\n",
      "Epoch 88/100\n",
      "8000/8000 [==============================] - 2s 195us/step - loss: 0.3935 - acc: 0.8376\n",
      "Epoch 89/100\n",
      "8000/8000 [==============================] - 2s 205us/step - loss: 0.3938 - acc: 0.8369\n",
      "Epoch 90/100\n",
      "8000/8000 [==============================] - 2s 216us/step - loss: 0.3934 - acc: 0.8374\n",
      "Epoch 91/100\n",
      "8000/8000 [==============================] - 2s 221us/step - loss: 0.3935 - acc: 0.8371\n",
      "Epoch 92/100\n",
      "8000/8000 [==============================] - 2s 234us/step - loss: 0.3933 - acc: 0.8357\n",
      "Epoch 93/100\n",
      "8000/8000 [==============================] - 2s 217us/step - loss: 0.3935 - acc: 0.8369\n",
      "Epoch 94/100\n",
      "8000/8000 [==============================] - 2s 211us/step - loss: 0.3934 - acc: 0.8375\n",
      "Epoch 95/100\n",
      "8000/8000 [==============================] - 2s 222us/step - loss: 0.3935 - acc: 0.8370\n",
      "Epoch 96/100\n",
      "8000/8000 [==============================] - 2s 207us/step - loss: 0.3931 - acc: 0.8377\n",
      "Epoch 97/100\n",
      "8000/8000 [==============================] - 2s 237us/step - loss: 0.3928 - acc: 0.8389\n",
      "Epoch 98/100\n",
      "8000/8000 [==============================] - 2s 244us/step - loss: 0.3933 - acc: 0.8357\n",
      "Epoch 99/100\n",
      "8000/8000 [==============================] - 2s 238us/step - loss: 0.3931 - acc: 0.8382\n",
      "Epoch 100/100\n",
      "8000/8000 [==============================] - 2s 240us/step - loss: 0.3929 - acc: 0.8376\n"
     ]
    },
    {
     "data": {
      "text/plain": [
       "<keras.callbacks.History at 0x1fe400632b0>"
      ]
     },
     "execution_count": 18,
     "metadata": {},
     "output_type": "execute_result"
    }
   ],
   "source": [
    "# fitting the ANN to the training set\n",
    "classifier.fit(X_train, y_train, batch_size=10, nb_epoch=100)"
   ]
  },
  {
   "cell_type": "code",
   "execution_count": 19,
   "metadata": {},
   "outputs": [],
   "source": [
    "y_pred=classifier.predict(X_test)"
   ]
  },
  {
   "cell_type": "code",
   "execution_count": 20,
   "metadata": {},
   "outputs": [],
   "source": [
    "y_pred=(y_pred > 0.5)"
   ]
  },
  {
   "cell_type": "code",
   "execution_count": 21,
   "metadata": {},
   "outputs": [],
   "source": [
    "from sklearn.metrics import confusion_matrix\n",
    "cm=confusion_matrix(y_test,y_pred)"
   ]
  },
  {
   "cell_type": "code",
   "execution_count": 22,
   "metadata": {},
   "outputs": [
    {
     "data": {
      "text/plain": [
       "array([[1556,   39],\n",
       "       [ 270,  135]], dtype=int64)"
      ]
     },
     "execution_count": 22,
     "metadata": {},
     "output_type": "execute_result"
    }
   ],
   "source": [
    "cm"
   ]
  },
  {
   "cell_type": "code",
   "execution_count": 23,
   "metadata": {},
   "outputs": [
    {
     "data": {
      "text/plain": [
       "0.846"
      ]
     },
     "execution_count": 23,
     "metadata": {},
     "output_type": "execute_result"
    }
   ],
   "source": [
    "(1543+149)/2000"
   ]
  },
  {
   "cell_type": "code",
   "execution_count": 24,
   "metadata": {},
   "outputs": [
    {
     "data": {
      "text/html": [
       "<div>\n",
       "<style scoped>\n",
       "    .dataframe tbody tr th:only-of-type {\n",
       "        vertical-align: middle;\n",
       "    }\n",
       "\n",
       "    .dataframe tbody tr th {\n",
       "        vertical-align: top;\n",
       "    }\n",
       "\n",
       "    .dataframe thead th {\n",
       "        text-align: right;\n",
       "    }\n",
       "</style>\n",
       "<table border=\"1\" class=\"dataframe\">\n",
       "  <thead>\n",
       "    <tr style=\"text-align: right;\">\n",
       "      <th></th>\n",
       "      <th>RowNumber</th>\n",
       "      <th>CustomerId</th>\n",
       "      <th>CreditScore</th>\n",
       "      <th>Age</th>\n",
       "      <th>Tenure</th>\n",
       "      <th>Balance</th>\n",
       "      <th>NumOfProducts</th>\n",
       "      <th>HasCrCard</th>\n",
       "      <th>IsActiveMember</th>\n",
       "      <th>EstimatedSalary</th>\n",
       "      <th>Male</th>\n",
       "      <th>Germany</th>\n",
       "      <th>Spain</th>\n",
       "    </tr>\n",
       "  </thead>\n",
       "  <tbody>\n",
       "    <tr>\n",
       "      <th>0</th>\n",
       "      <td>1</td>\n",
       "      <td>15634602</td>\n",
       "      <td>619</td>\n",
       "      <td>42</td>\n",
       "      <td>2</td>\n",
       "      <td>0.00</td>\n",
       "      <td>1</td>\n",
       "      <td>1</td>\n",
       "      <td>1</td>\n",
       "      <td>101348.88</td>\n",
       "      <td>0</td>\n",
       "      <td>0</td>\n",
       "      <td>0</td>\n",
       "    </tr>\n",
       "    <tr>\n",
       "      <th>1</th>\n",
       "      <td>2</td>\n",
       "      <td>15647311</td>\n",
       "      <td>608</td>\n",
       "      <td>41</td>\n",
       "      <td>1</td>\n",
       "      <td>83807.86</td>\n",
       "      <td>1</td>\n",
       "      <td>0</td>\n",
       "      <td>1</td>\n",
       "      <td>112542.58</td>\n",
       "      <td>0</td>\n",
       "      <td>0</td>\n",
       "      <td>1</td>\n",
       "    </tr>\n",
       "    <tr>\n",
       "      <th>2</th>\n",
       "      <td>3</td>\n",
       "      <td>15619304</td>\n",
       "      <td>502</td>\n",
       "      <td>42</td>\n",
       "      <td>8</td>\n",
       "      <td>159660.80</td>\n",
       "      <td>3</td>\n",
       "      <td>1</td>\n",
       "      <td>0</td>\n",
       "      <td>113931.57</td>\n",
       "      <td>0</td>\n",
       "      <td>0</td>\n",
       "      <td>0</td>\n",
       "    </tr>\n",
       "    <tr>\n",
       "      <th>3</th>\n",
       "      <td>4</td>\n",
       "      <td>15701354</td>\n",
       "      <td>699</td>\n",
       "      <td>39</td>\n",
       "      <td>1</td>\n",
       "      <td>0.00</td>\n",
       "      <td>2</td>\n",
       "      <td>0</td>\n",
       "      <td>0</td>\n",
       "      <td>93826.63</td>\n",
       "      <td>0</td>\n",
       "      <td>0</td>\n",
       "      <td>0</td>\n",
       "    </tr>\n",
       "    <tr>\n",
       "      <th>4</th>\n",
       "      <td>5</td>\n",
       "      <td>15737888</td>\n",
       "      <td>850</td>\n",
       "      <td>43</td>\n",
       "      <td>2</td>\n",
       "      <td>125510.82</td>\n",
       "      <td>1</td>\n",
       "      <td>1</td>\n",
       "      <td>1</td>\n",
       "      <td>79084.10</td>\n",
       "      <td>0</td>\n",
       "      <td>0</td>\n",
       "      <td>1</td>\n",
       "    </tr>\n",
       "  </tbody>\n",
       "</table>\n",
       "</div>"
      ],
      "text/plain": [
       "   RowNumber  CustomerId  CreditScore  Age  Tenure    Balance  NumOfProducts  \\\n",
       "0          1    15634602          619   42       2       0.00              1   \n",
       "1          2    15647311          608   41       1   83807.86              1   \n",
       "2          3    15619304          502   42       8  159660.80              3   \n",
       "3          4    15701354          699   39       1       0.00              2   \n",
       "4          5    15737888          850   43       2  125510.82              1   \n",
       "\n",
       "   HasCrCard  IsActiveMember  EstimatedSalary  Male  Germany  Spain  \n",
       "0          1               1        101348.88     0        0      0  \n",
       "1          0               1        112542.58     0        0      1  \n",
       "2          1               0        113931.57     0        0      0  \n",
       "3          0               0         93826.63     0        0      0  \n",
       "4          1               1         79084.10     0        0      1  "
      ]
     },
     "execution_count": 24,
     "metadata": {},
     "output_type": "execute_result"
    }
   ],
   "source": [
    "x.head()"
   ]
  },
  {
   "cell_type": "code",
   "execution_count": 25,
   "metadata": {},
   "outputs": [
    {
     "name": "stderr",
     "output_type": "stream",
     "text": [
      "C:\\Users\\MANEESH\\Anaconda3\\lib\\site-packages\\sklearn\\utils\\validation.py:590: DataConversionWarning: Data with input dtype int32 was converted to float64 by StandardScaler.\n",
      "  warnings.warn(msg, DataConversionWarning)\n"
     ]
    }
   ],
   "source": [
    "new_pred=classifier.predict(sc.transform(np.array([[0,0,600,40,3,60000,2,1,1,5000,1,0,0]])))\n"
   ]
  },
  {
   "cell_type": "code",
   "execution_count": 26,
   "metadata": {},
   "outputs": [
    {
     "data": {
      "text/plain": [
       "array([[False]])"
      ]
     },
     "execution_count": 26,
     "metadata": {},
     "output_type": "execute_result"
    }
   ],
   "source": [
    "new_pred > 0.5"
   ]
  },
  {
   "cell_type": "code",
   "execution_count": null,
   "metadata": {},
   "outputs": [],
   "source": [
    "# classifier "
   ]
  },
  {
   "cell_type": "code",
   "execution_count": 27,
   "metadata": {},
   "outputs": [],
   "source": [
    "from keras.wrappers.scikit_learn import KerasClassifier\n",
    "from sklearn.model_selection import cross_val_score"
   ]
  },
  {
   "cell_type": "code",
   "execution_count": 28,
   "metadata": {},
   "outputs": [],
   "source": [
    "def build_classifire():\n",
    "    classifier = Sequential() #local classifier\n",
    "    classifier.add(Dense(output_dim=6,init='uniform', activation='relu',input_dim=13))\n",
    "    classifier.add(Dense(output_dim=6,init='uniform', activation='relu'))\n",
    "    classifier.add(Dense(output_dim=1, init='uniform', activation='sigmoid'))\n",
    "    classifier.compile(optimizer='adam', loss= 'binary_crossentropy', metrics=['accuracy'])\n",
    "    return classifier"
   ]
  },
  {
   "cell_type": "code",
   "execution_count": 29,
   "metadata": {},
   "outputs": [],
   "source": [
    "classifier = KerasClassifier(build_fn=build_classifire,batch_size=10, nb_epoch=100)"
   ]
  },
  {
   "cell_type": "code",
   "execution_count": null,
   "metadata": {},
   "outputs": [],
   "source": []
  }
 ],
 "metadata": {
  "kernelspec": {
   "display_name": "Python 3",
   "language": "python",
   "name": "python3"
  },
  "language_info": {
   "codemirror_mode": {
    "name": "ipython",
    "version": 3
   },
   "file_extension": ".py",
   "mimetype": "text/x-python",
   "name": "python",
   "nbconvert_exporter": "python",
   "pygments_lexer": "ipython3",
   "version": "3.6.6"
  }
 },
 "nbformat": 4,
 "nbformat_minor": 2
}
