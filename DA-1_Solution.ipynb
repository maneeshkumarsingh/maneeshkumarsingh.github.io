{
 "cells": [
  {
   "cell_type": "markdown",
   "metadata": {},
   "source": [
    "# Import Libery "
   ]
  },
  {
   "cell_type": "code",
   "execution_count": 1,
   "metadata": {
    "scrolled": false
   },
   "outputs": [
    {
     "name": "stderr",
     "output_type": "stream",
     "text": [
      "C:\\Users\\MANEESH\\anaconda\\lib\\site-packages\\sklearn\\cross_validation.py:41: DeprecationWarning: This module was deprecated in version 0.18 in favor of the model_selection module into which all the refactored classes and functions are moved. Also note that the interface of the new CV iterators are different from that of this module. This module will be removed in 0.20.\n",
      "  \"This module will be removed in 0.20.\", DeprecationWarning)\n"
     ]
    }
   ],
   "source": [
    "import pandas as pd\n",
    "import numpy as np\n",
    "import matplotlib.pyplot as plt \n",
    "% matplotlib inline\n",
    "from statsmodels.stats.outliers_influence import variance_inflation_factor\n",
    "from sklearn.cross_validation import cross_val_score\n",
    "from scipy import stats\n",
    "from numpy.random import seed\n",
    "from numpy.random import randn\n",
    "from numpy import mean\n",
    "from numpy import std\n",
    "import seaborn as sns\n",
    "\n",
    "    \n",
    "        \n",
    "    \n"
   ]
  },
  {
   "cell_type": "markdown",
   "metadata": {},
   "source": [
    "# import data set "
   ]
  },
  {
   "cell_type": "code",
   "execution_count": 2,
   "metadata": {
    "scrolled": true
   },
   "outputs": [
    {
     "data": {
      "text/html": [
       "<div>\n",
       "<style scoped>\n",
       "    .dataframe tbody tr th:only-of-type {\n",
       "        vertical-align: middle;\n",
       "    }\n",
       "\n",
       "    .dataframe tbody tr th {\n",
       "        vertical-align: top;\n",
       "    }\n",
       "\n",
       "    .dataframe thead th {\n",
       "        text-align: right;\n",
       "    }\n",
       "</style>\n",
       "<table border=\"1\" class=\"dataframe\">\n",
       "  <thead>\n",
       "    <tr style=\"text-align: right;\">\n",
       "      <th></th>\n",
       "      <th>Id</th>\n",
       "      <th>Type</th>\n",
       "      <th>CountA</th>\n",
       "      <th>CountB</th>\n",
       "      <th>CountC</th>\n",
       "      <th>FeedBack</th>\n",
       "      <th>User</th>\n",
       "    </tr>\n",
       "    <tr>\n",
       "      <th>timestamp</th>\n",
       "      <th></th>\n",
       "      <th></th>\n",
       "      <th></th>\n",
       "      <th></th>\n",
       "      <th></th>\n",
       "      <th></th>\n",
       "      <th></th>\n",
       "    </tr>\n",
       "  </thead>\n",
       "  <tbody>\n",
       "    <tr>\n",
       "      <th>2016-08-04 10:16:47</th>\n",
       "      <td>10121</td>\n",
       "      <td>Email</td>\n",
       "      <td>0.773005</td>\n",
       "      <td>0.662162</td>\n",
       "      <td>0.622776</td>\n",
       "      <td>Others</td>\n",
       "      <td>A1005</td>\n",
       "    </tr>\n",
       "    <tr>\n",
       "      <th>2016-08-04 10:18:28</th>\n",
       "      <td>10122</td>\n",
       "      <td>Email</td>\n",
       "      <td>0.193826</td>\n",
       "      <td>0.870958</td>\n",
       "      <td>0.328081</td>\n",
       "      <td>Others</td>\n",
       "      <td>A1002</td>\n",
       "    </tr>\n",
       "    <tr>\n",
       "      <th>2016-08-04 10:30:24</th>\n",
       "      <td>10123</td>\n",
       "      <td>Email</td>\n",
       "      <td>0.772299</td>\n",
       "      <td>0.322429</td>\n",
       "      <td>0.456233</td>\n",
       "      <td>Others</td>\n",
       "      <td>A1002</td>\n",
       "    </tr>\n",
       "    <tr>\n",
       "      <th>2016-08-04 10:41:56</th>\n",
       "      <td>10124</td>\n",
       "      <td>Email</td>\n",
       "      <td>0.485769</td>\n",
       "      <td>0.128755</td>\n",
       "      <td>0.575060</td>\n",
       "      <td>Others</td>\n",
       "      <td>A1002</td>\n",
       "    </tr>\n",
       "    <tr>\n",
       "      <th>2016-08-04 10:59:00</th>\n",
       "      <td>10125</td>\n",
       "      <td>Email</td>\n",
       "      <td>0.015268</td>\n",
       "      <td>0.216612</td>\n",
       "      <td>0.098125</td>\n",
       "      <td>Others</td>\n",
       "      <td>A1002</td>\n",
       "    </tr>\n",
       "  </tbody>\n",
       "</table>\n",
       "</div>"
      ],
      "text/plain": [
       "                        Id   Type    CountA    CountB    CountC FeedBack  \\\n",
       "timestamp                                                                  \n",
       "2016-08-04 10:16:47  10121  Email  0.773005  0.662162  0.622776   Others   \n",
       "2016-08-04 10:18:28  10122  Email  0.193826  0.870958  0.328081   Others   \n",
       "2016-08-04 10:30:24  10123  Email  0.772299  0.322429  0.456233   Others   \n",
       "2016-08-04 10:41:56  10124  Email  0.485769  0.128755  0.575060   Others   \n",
       "2016-08-04 10:59:00  10125  Email  0.015268  0.216612  0.098125   Others   \n",
       "\n",
       "                      User  \n",
       "timestamp                   \n",
       "2016-08-04 10:16:47  A1005  \n",
       "2016-08-04 10:18:28  A1002  \n",
       "2016-08-04 10:30:24  A1002  \n",
       "2016-08-04 10:41:56  A1002  \n",
       "2016-08-04 10:59:00  A1002  "
      ]
     },
     "execution_count": 2,
     "metadata": {},
     "output_type": "execute_result"
    }
   ],
   "source": [
    "df1 = pd.read_excel('DA-1.xlsx',sheet_name=0)\n",
    "df2=pd.read_excel('DA-1.xlsx',sheet_name=1)\n",
    "df2=df2.drop('Id',axis=1)\n",
    "df3=df2.iloc[0:64]\n",
    "df=pd.concat([df1,df3],axis=1)\n",
    "df\n",
    "df['timestamp']=pd.to_datetime(df['Date'])\n",
    "df=df.drop('Date',axis=1)\n",
    "df=df.set_index('timestamp')\n",
    "df.head()\n"
   ]
  },
  {
   "cell_type": "markdown",
   "metadata": {},
   "source": [
    "# data cleaning"
   ]
  },
  {
   "cell_type": "code",
   "execution_count": 3,
   "metadata": {},
   "outputs": [
    {
     "data": {
      "text/plain": [
       "(64, 7)"
      ]
     },
     "execution_count": 3,
     "metadata": {},
     "output_type": "execute_result"
    }
   ],
   "source": [
    "df.shape"
   ]
  },
  {
   "cell_type": "code",
   "execution_count": 4,
   "metadata": {},
   "outputs": [
    {
     "data": {
      "text/plain": [
       "timestamp\n",
       "2016-08-04 10:16:47       Others\n",
       "2016-08-04 10:18:28       Others\n",
       "2016-08-04 10:30:24       Others\n",
       "2016-08-04 10:41:56       Others\n",
       "2016-08-04 10:59:00       Others\n",
       "2016-08-04 10:59:00       Others\n",
       "2016-08-04 11:01:08       Others\n",
       "2016-08-04 11:01:56       Others\n",
       "2016-08-04 11:05:13    undecided\n",
       "2016-08-04 11:07:48           NC\n",
       "2016-08-04 11:12:14       Others\n",
       "2016-08-04 11:36:14       Others\n",
       "2016-08-04 13:35:02       Others\n",
       "2016-08-04 13:47:40       Others\n",
       "2016-08-04 14:17:27       Others\n",
       "2016-08-04 14:17:49          NaN\n",
       "2016-08-04 15:38:54           NC\n",
       "2016-08-04 15:42:52           NC\n",
       "2016-08-04 15:44:13           NC\n",
       "2016-08-04 15:44:46           NC\n",
       "2016-08-04 15:48:39           NC\n",
       "2016-08-04 16:06:07           NC\n",
       "2016-08-04 16:08:46           NC\n",
       "2016-08-04 16:09:00           NC\n",
       "2016-08-04 16:10:34           NC\n",
       "2016-08-04 16:13:40           NC\n",
       "2016-08-04 16:13:57           NC\n",
       "2016-08-04 16:13:57           NC\n",
       "2016-08-04 16:21:37       Others\n",
       "2016-08-04 16:21:47           NI\n",
       "                         ...    \n",
       "2016-08-04 16:27:43           NC\n",
       "2016-08-04 16:30:12           NC\n",
       "2016-08-04 16:36:08       Others\n",
       "2016-08-04 16:37:29       Others\n",
       "2016-08-04 16:37:37           NC\n",
       "2016-08-04 16:39:13       Others\n",
       "2016-08-04 16:39:30    undecided\n",
       "2016-08-04 16:45:14       Others\n",
       "2016-08-04 16:45:21           NC\n",
       "2016-08-04 16:48:23       Others\n",
       "2016-08-04 16:48:34    undecided\n",
       "2016-08-04 17:01:33       Others\n",
       "2016-08-04 17:02:01       Others\n",
       "2016-08-04 17:05:30           NC\n",
       "2016-08-04 17:06:03           NC\n",
       "2016-08-04 17:06:28           NC\n",
       "2016-08-04 17:09:35           NC\n",
       "2016-08-04 17:26:14           NC\n",
       "2016-08-04 17:28:02       Others\n",
       "2016-08-04 17:40:42       Others\n",
       "2016-08-04 17:40:50           NC\n",
       "2016-08-04 17:42:45          NaN\n",
       "2016-08-04 17:43:18       Others\n",
       "2016-08-04 17:43:47    undecided\n",
       "2016-08-04 17:43:57       Others\n",
       "2016-08-04 17:44:26          NaN\n",
       "2016-08-04 17:44:37       Others\n",
       "2016-08-04 18:07:52           NC\n",
       "2016-08-04 19:04:04       Others\n",
       "2016-08-04 19:04:15    undecided\n",
       "Name: FeedBack, Length: 64, dtype: object"
      ]
     },
     "execution_count": 4,
     "metadata": {},
     "output_type": "execute_result"
    }
   ],
   "source": [
    "d={'Undecided':'undecided','UNDECIDED':'undecided','nc':'NC','Others':'Others','NC':'NC','undecided':'undecided','NI':'NI'}\n",
    "df['FeedBack']=df['FeedBack'].map(d)\n",
    "df['FeedBack']"
   ]
  },
  {
   "cell_type": "code",
   "execution_count": 5,
   "metadata": {},
   "outputs": [
    {
     "data": {
      "text/plain": [
       "Id          0\n",
       "Type        1\n",
       "CountA      0\n",
       "CountB      0\n",
       "CountC      0\n",
       "FeedBack    3\n",
       "User        0\n",
       "dtype: int64"
      ]
     },
     "execution_count": 5,
     "metadata": {},
     "output_type": "execute_result"
    }
   ],
   "source": [
    "#for check NA values\n",
    "df.isnull().sum()"
   ]
  },
  {
   "cell_type": "code",
   "execution_count": 6,
   "metadata": {},
   "outputs": [],
   "source": [
    "#missing value treatement\n",
    "df['FeedBack'] = df['FeedBack'].fillna(df['FeedBack'].mode()[0])\n",
    "df['Type'] = df['Type'].fillna(df['Type'].mode()[0])\n"
   ]
  },
  {
   "cell_type": "code",
   "execution_count": 7,
   "metadata": {},
   "outputs": [
    {
     "data": {
      "text/plain": [
       "Id          0\n",
       "Type        0\n",
       "CountA      0\n",
       "CountB      0\n",
       "CountC      0\n",
       "FeedBack    0\n",
       "User        0\n",
       "dtype: int64"
      ]
     },
     "execution_count": 7,
     "metadata": {},
     "output_type": "execute_result"
    }
   ],
   "source": [
    "df.isnull().sum()"
   ]
  },
  {
   "cell_type": "code",
   "execution_count": 8,
   "metadata": {
    "scrolled": true
   },
   "outputs": [
    {
     "data": {
      "image/png": "[encoded data removed]",
      "text/plain": [
       "<Figure size 432x288 with 4 Axes>"
      ]
     },
     "metadata": {},
     "output_type": "display_data"
    }
   ],
   "source": [
    "#check data distubusation\n",
    "df.hist()\n",
    "plt.show()"
   ]
  },
  {
   "cell_type": "code",
   "execution_count": 9,
   "metadata": {
    "scrolled": false
   },
   "outputs": [
    {
     "data": {
      "image/png": "[encoded data removed]",
      "text/plain": [
       "<Figure size 432x288 with 9 Axes>"
      ]
     },
     "metadata": {},
     "output_type": "display_data"
    }
   ],
   "source": [
    "#for cheching outlier plot Box plot\n",
    "df.plot(kind='box',subplots=True, layout=(3,3),sharex=False, sharey=False)\n",
    "plt.show()"
   ]
  },
  {
   "cell_type": "code",
   "execution_count": 10,
   "metadata": {
    "scrolled": false
   },
   "outputs": [
    {
     "data": {
      "text/html": [
       "<div>\n",
       "<style scoped>\n",
       "    .dataframe tbody tr th:only-of-type {\n",
       "        vertical-align: middle;\n",
       "    }\n",
       "\n",
       "    .dataframe tbody tr th {\n",
       "        vertical-align: top;\n",
       "    }\n",
       "\n",
       "    .dataframe thead th {\n",
       "        text-align: right;\n",
       "    }\n",
       "</style>\n",
       "<table border=\"1\" class=\"dataframe\">\n",
       "  <thead>\n",
       "    <tr style=\"text-align: right;\">\n",
       "      <th></th>\n",
       "      <th>Id</th>\n",
       "      <th>Type</th>\n",
       "      <th>CountA</th>\n",
       "      <th>CountB</th>\n",
       "      <th>CountC</th>\n",
       "      <th>FeedBack</th>\n",
       "      <th>User</th>\n",
       "    </tr>\n",
       "    <tr>\n",
       "      <th>timestamp</th>\n",
       "      <th></th>\n",
       "      <th></th>\n",
       "      <th></th>\n",
       "      <th></th>\n",
       "      <th></th>\n",
       "      <th></th>\n",
       "      <th></th>\n",
       "    </tr>\n",
       "  </thead>\n",
       "  <tbody>\n",
       "    <tr>\n",
       "      <th>2016-08-04 10:16:47</th>\n",
       "      <td>10121</td>\n",
       "      <td>Email</td>\n",
       "      <td>0.773005</td>\n",
       "      <td>0.662162</td>\n",
       "      <td>0.622776</td>\n",
       "      <td>Others</td>\n",
       "      <td>A1005</td>\n",
       "    </tr>\n",
       "    <tr>\n",
       "      <th>2016-08-04 10:18:28</th>\n",
       "      <td>10122</td>\n",
       "      <td>Email</td>\n",
       "      <td>0.193826</td>\n",
       "      <td>0.870958</td>\n",
       "      <td>0.328081</td>\n",
       "      <td>Others</td>\n",
       "      <td>A1002</td>\n",
       "    </tr>\n",
       "    <tr>\n",
       "      <th>2016-08-04 10:30:24</th>\n",
       "      <td>10123</td>\n",
       "      <td>Email</td>\n",
       "      <td>0.772299</td>\n",
       "      <td>0.322429</td>\n",
       "      <td>0.456233</td>\n",
       "      <td>Others</td>\n",
       "      <td>A1002</td>\n",
       "    </tr>\n",
       "    <tr>\n",
       "      <th>2016-08-04 10:41:56</th>\n",
       "      <td>10124</td>\n",
       "      <td>Email</td>\n",
       "      <td>0.485769</td>\n",
       "      <td>0.128755</td>\n",
       "      <td>0.575060</td>\n",
       "      <td>Others</td>\n",
       "      <td>A1002</td>\n",
       "    </tr>\n",
       "    <tr>\n",
       "      <th>2016-08-04 10:59:00</th>\n",
       "      <td>10125</td>\n",
       "      <td>Email</td>\n",
       "      <td>0.015268</td>\n",
       "      <td>0.216612</td>\n",
       "      <td>0.098125</td>\n",
       "      <td>Others</td>\n",
       "      <td>A1002</td>\n",
       "    </tr>\n",
       "  </tbody>\n",
       "</table>\n",
       "</div>"
      ],
      "text/plain": [
       "                        Id   Type    CountA    CountB    CountC FeedBack  \\\n",
       "timestamp                                                                  \n",
       "2016-08-04 10:16:47  10121  Email  0.773005  0.662162  0.622776   Others   \n",
       "2016-08-04 10:18:28  10122  Email  0.193826  0.870958  0.328081   Others   \n",
       "2016-08-04 10:30:24  10123  Email  0.772299  0.322429  0.456233   Others   \n",
       "2016-08-04 10:41:56  10124  Email  0.485769  0.128755  0.575060   Others   \n",
       "2016-08-04 10:59:00  10125  Email  0.015268  0.216612  0.098125   Others   \n",
       "\n",
       "                      User  \n",
       "timestamp                   \n",
       "2016-08-04 10:16:47  A1005  \n",
       "2016-08-04 10:18:28  A1002  \n",
       "2016-08-04 10:30:24  A1002  \n",
       "2016-08-04 10:41:56  A1002  \n",
       "2016-08-04 10:59:00  A1002  "
      ]
     },
     "execution_count": 10,
     "metadata": {},
     "output_type": "execute_result"
    }
   ],
   "source": [
    "df.head()"
   ]
  },
  {
   "cell_type": "code",
   "execution_count": 11,
   "metadata": {},
   "outputs": [],
   "source": [
    "#For Seeing Linear Relation Ship with FeedBack and other Atribute"
   ]
  },
  {
   "cell_type": "code",
   "execution_count": 12,
   "metadata": {
    "scrolled": false
   },
   "outputs": [
    {
     "data": {
      "text/plain": [
       "<matplotlib.collections.PathCollection at 0x15a06a7c748>"
      ]
     },
     "execution_count": 12,
     "metadata": {},
     "output_type": "execute_result"
    },
    {
     "data": {
      "image/png": "[encoded data removed]",
      "text/plain": [
       "<Figure size 432x288 with 1 Axes>"
      ]
     },
     "metadata": {},
     "output_type": "display_data"
    }
   ],
   "source": [
    "plt.scatter(df['CountA'],df['FeedBack'])"
   ]
  },
  {
   "cell_type": "code",
   "execution_count": 13,
   "metadata": {},
   "outputs": [
    {
     "data": {
      "text/plain": [
       "<matplotlib.collections.PathCollection at 0x15a06ad2668>"
      ]
     },
     "execution_count": 13,
     "metadata": {},
     "output_type": "execute_result"
    },
    {
     "data": {
      "image/png": "[encoded data removed]",
      "text/plain": [
       "<Figure size 432x288 with 1 Axes>"
      ]
     },
     "metadata": {},
     "output_type": "display_data"
    }
   ],
   "source": [
    "ccc"
   ]
  },
  {
   "cell_type": "code",
   "execution_count": 14,
   "metadata": {},
   "outputs": [
    {
     "data": {
      "text/plain": [
       "<matplotlib.collections.PathCollection at 0x15a06b205f8>"
      ]
     },
     "execution_count": 14,
     "metadata": {},
     "output_type": "execute_result"
    },
    {
     "data": {
      "image/png": "[encoded data removed]",
      "text/plain": [
       "<Figure size 432x288 with 1 Axes>"
      ]
     },
     "metadata": {},
     "output_type": "display_data"
    }
   ],
   "source": [
    "plt.scatter(df['CountC'],df['FeedBack'])"
   ]
  },
  {
   "cell_type": "code",
   "execution_count": 15,
   "metadata": {
    "scrolled": true
   },
   "outputs": [
    {
     "data": {
      "text/plain": [
       "<matplotlib.axes._subplots.AxesSubplot at 0x15a06b3a320>"
      ]
     },
     "execution_count": 15,
     "metadata": {},
     "output_type": "execute_result"
    },
    {
     "data": {
      "image/png": "[encoded data removed]",
      "text/plain": [
       "<Figure size 432x288 with 1 Axes>"
      ]
     },
     "metadata": {},
     "output_type": "display_data"
    }
   ],
   "source": [
    "sns.countplot(x='Type',hue='FeedBack',data=df)"
   ]
  },
  {
   "cell_type": "code",
   "execution_count": 16,
   "metadata": {},
   "outputs": [
    {
     "data": {
      "text/plain": [
       "<matplotlib.axes._subplots.AxesSubplot at 0x15a06bd1ac8>"
      ]
     },
     "execution_count": 16,
     "metadata": {},
     "output_type": "execute_result"
    },
    {
     "data": {
      "image/png": "[encoded data removed]",
      "text/plain": [
       "<Figure size 432x288 with 1 Axes>"
      ]
     },
     "metadata": {},
     "output_type": "display_data"
    }
   ],
   "source": [
    "sns.countplot(x='User',hue='FeedBack',data=df)"
   ]
  },
  {
   "cell_type": "code",
   "execution_count": 17,
   "metadata": {},
   "outputs": [
    {
     "data": {
      "text/html": [
       "<div>\n",
       "<style scoped>\n",
       "    .dataframe tbody tr th:only-of-type {\n",
       "        vertical-align: middle;\n",
       "    }\n",
       "\n",
       "    .dataframe tbody tr th {\n",
       "        vertical-align: top;\n",
       "    }\n",
       "\n",
       "    .dataframe thead th {\n",
       "        text-align: right;\n",
       "    }\n",
       "</style>\n",
       "<table border=\"1\" class=\"dataframe\">\n",
       "  <thead>\n",
       "    <tr style=\"text-align: right;\">\n",
       "      <th></th>\n",
       "      <th>Id</th>\n",
       "      <th>CountA</th>\n",
       "      <th>CountB</th>\n",
       "      <th>CountC</th>\n",
       "      <th>FeedBack</th>\n",
       "      <th>User</th>\n",
       "      <th>Email</th>\n",
       "      <th>Update</th>\n",
       "      <th>Visit</th>\n",
       "    </tr>\n",
       "    <tr>\n",
       "      <th>timestamp</th>\n",
       "      <th></th>\n",
       "      <th></th>\n",
       "      <th></th>\n",
       "      <th></th>\n",
       "      <th></th>\n",
       "      <th></th>\n",
       "      <th></th>\n",
       "      <th></th>\n",
       "      <th></th>\n",
       "    </tr>\n",
       "  </thead>\n",
       "  <tbody>\n",
       "    <tr>\n",
       "      <th>2016-08-04 10:16:47</th>\n",
       "      <td>10121</td>\n",
       "      <td>0.773005</td>\n",
       "      <td>0.662162</td>\n",
       "      <td>0.622776</td>\n",
       "      <td>Others</td>\n",
       "      <td>A1005</td>\n",
       "      <td>1</td>\n",
       "      <td>0</td>\n",
       "      <td>0</td>\n",
       "    </tr>\n",
       "    <tr>\n",
       "      <th>2016-08-04 10:18:28</th>\n",
       "      <td>10122</td>\n",
       "      <td>0.193826</td>\n",
       "      <td>0.870958</td>\n",
       "      <td>0.328081</td>\n",
       "      <td>Others</td>\n",
       "      <td>A1002</td>\n",
       "      <td>1</td>\n",
       "      <td>0</td>\n",
       "      <td>0</td>\n",
       "    </tr>\n",
       "    <tr>\n",
       "      <th>2016-08-04 10:30:24</th>\n",
       "      <td>10123</td>\n",
       "      <td>0.772299</td>\n",
       "      <td>0.322429</td>\n",
       "      <td>0.456233</td>\n",
       "      <td>Others</td>\n",
       "      <td>A1002</td>\n",
       "      <td>1</td>\n",
       "      <td>0</td>\n",
       "      <td>0</td>\n",
       "    </tr>\n",
       "    <tr>\n",
       "      <th>2016-08-04 10:41:56</th>\n",
       "      <td>10124</td>\n",
       "      <td>0.485769</td>\n",
       "      <td>0.128755</td>\n",
       "      <td>0.575060</td>\n",
       "      <td>Others</td>\n",
       "      <td>A1002</td>\n",
       "      <td>1</td>\n",
       "      <td>0</td>\n",
       "      <td>0</td>\n",
       "    </tr>\n",
       "    <tr>\n",
       "      <th>2016-08-04 10:59:00</th>\n",
       "      <td>10125</td>\n",
       "      <td>0.015268</td>\n",
       "      <td>0.216612</td>\n",
       "      <td>0.098125</td>\n",
       "      <td>Others</td>\n",
       "      <td>A1002</td>\n",
       "      <td>1</td>\n",
       "      <td>0</td>\n",
       "      <td>0</td>\n",
       "    </tr>\n",
       "  </tbody>\n",
       "</table>\n",
       "</div>"
      ],
      "text/plain": [
       "                        Id    CountA    CountB    CountC FeedBack   User  \\\n",
       "timestamp                                                                  \n",
       "2016-08-04 10:16:47  10121  0.773005  0.662162  0.622776   Others  A1005   \n",
       "2016-08-04 10:18:28  10122  0.193826  0.870958  0.328081   Others  A1002   \n",
       "2016-08-04 10:30:24  10123  0.772299  0.322429  0.456233   Others  A1002   \n",
       "2016-08-04 10:41:56  10124  0.485769  0.128755  0.575060   Others  A1002   \n",
       "2016-08-04 10:59:00  10125  0.015268  0.216612  0.098125   Others  A1002   \n",
       "\n",
       "                     Email  Update  Visit  \n",
       "timestamp                                  \n",
       "2016-08-04 10:16:47      1       0      0  \n",
       "2016-08-04 10:18:28      1       0      0  \n",
       "2016-08-04 10:30:24      1       0      0  \n",
       "2016-08-04 10:41:56      1       0      0  \n",
       "2016-08-04 10:59:00      1       0      0  "
      ]
     },
     "execution_count": 17,
     "metadata": {},
     "output_type": "execute_result"
    }
   ],
   "source": [
    "hu=pd.get_dummies(df.Type,drop_first=True)\n",
    "df=pd.concat([df,hu],axis=1)\n",
    "df.drop('Type',axis=1,inplace=True)\n",
    "df.head()"
   ]
  },
  {
   "cell_type": "code",
   "execution_count": 18,
   "metadata": {},
   "outputs": [
    {
     "data": {
      "text/html": [
       "<div>\n",
       "<style scoped>\n",
       "    .dataframe tbody tr th:only-of-type {\n",
       "        vertical-align: middle;\n",
       "    }\n",
       "\n",
       "    .dataframe tbody tr th {\n",
       "        vertical-align: top;\n",
       "    }\n",
       "\n",
       "    .dataframe thead th {\n",
       "        text-align: right;\n",
       "    }\n",
       "</style>\n",
       "<table border=\"1\" class=\"dataframe\">\n",
       "  <thead>\n",
       "    <tr style=\"text-align: right;\">\n",
       "      <th></th>\n",
       "      <th>Id</th>\n",
       "      <th>CountA</th>\n",
       "      <th>CountB</th>\n",
       "      <th>CountC</th>\n",
       "      <th>FeedBack</th>\n",
       "      <th>User</th>\n",
       "      <th>Email</th>\n",
       "      <th>Update</th>\n",
       "      <th>Visit</th>\n",
       "    </tr>\n",
       "    <tr>\n",
       "      <th>timestamp</th>\n",
       "      <th></th>\n",
       "      <th></th>\n",
       "      <th></th>\n",
       "      <th></th>\n",
       "      <th></th>\n",
       "      <th></th>\n",
       "      <th></th>\n",
       "      <th></th>\n",
       "      <th></th>\n",
       "    </tr>\n",
       "  </thead>\n",
       "  <tbody>\n",
       "  </tbody>\n",
       "</table>\n",
       "</div>"
      ],
      "text/plain": [
       "Empty DataFrame\n",
       "Columns: [Id, CountA, CountB, CountC, FeedBack, User, Email, Update, Visit]\n",
       "Index: []"
      ]
     },
     "execution_count": 18,
     "metadata": {},
     "output_type": "execute_result"
    }
   ],
   "source": [
    "from numpy.random import seed\n",
    "from numpy.random import randn\n",
    "from numpy import mean\n",
    "from numpy import std\n",
    "\n",
    "dm, ds = mean(df.CountA), std(df.CountA)\n",
    "# identify outliers\n",
    "cf = ds * 3\n",
    "lower, upper = dm- cf, dm + cf\n",
    "# identify outliers\n",
    "df[(df.CountA>upper)|(df.CountA<lower)]\n"
   ]
  },
  {
   "cell_type": "code",
   "execution_count": 19,
   "metadata": {},
   "outputs": [],
   "source": [
    "#identify outlier for countB\n",
    "dm, ds = mean(df.CountB), std(df.CountB)\n",
    "cf = ds * 3\n",
    "lower, upper = dm- cf, dm + cf\n",
    "df[(df.CountB>upper)|(df.CountB<lower)]\n",
    "df=df.drop('User',axis=1)"
   ]
  },
  {
   "cell_type": "code",
   "execution_count": 20,
   "metadata": {},
   "outputs": [
    {
     "data": {
      "text/html": [
       "<div>\n",
       "<style scoped>\n",
       "    .dataframe tbody tr th:only-of-type {\n",
       "        vertical-align: middle;\n",
       "    }\n",
       "\n",
       "    .dataframe tbody tr th {\n",
       "        vertical-align: top;\n",
       "    }\n",
       "\n",
       "    .dataframe thead th {\n",
       "        text-align: right;\n",
       "    }\n",
       "</style>\n",
       "<table border=\"1\" class=\"dataframe\">\n",
       "  <thead>\n",
       "    <tr style=\"text-align: right;\">\n",
       "      <th></th>\n",
       "      <th>Id</th>\n",
       "      <th>CountA</th>\n",
       "      <th>CountB</th>\n",
       "      <th>CountC</th>\n",
       "      <th>FeedBack</th>\n",
       "      <th>Email</th>\n",
       "      <th>Update</th>\n",
       "      <th>Visit</th>\n",
       "    </tr>\n",
       "    <tr>\n",
       "      <th>timestamp</th>\n",
       "      <th></th>\n",
       "      <th></th>\n",
       "      <th></th>\n",
       "      <th></th>\n",
       "      <th></th>\n",
       "      <th></th>\n",
       "      <th></th>\n",
       "      <th></th>\n",
       "    </tr>\n",
       "  </thead>\n",
       "  <tbody>\n",
       "  </tbody>\n",
       "</table>\n",
       "</div>"
      ],
      "text/plain": [
       "Empty DataFrame\n",
       "Columns: [Id, CountA, CountB, CountC, FeedBack, Email, Update, Visit]\n",
       "Index: []"
      ]
     },
     "execution_count": 20,
     "metadata": {},
     "output_type": "execute_result"
    }
   ],
   "source": [
    "#identify outlier for countC\n",
    "dm, ds = mean(df.CountC), std(df.CountC)\n",
    "cf = ds * 3\n",
    "lower, upper = dm- cf, dm + cf\n",
    "df[(df.CountC>upper)|(df.CountC<lower)]\n"
   ]
  },
  {
   "cell_type": "code",
   "execution_count": 21,
   "metadata": {},
   "outputs": [
    {
     "data": {
      "image/png": "[encoded data removed]",
      "text/plain": [
       "<Figure size 432x288 with 9 Axes>"
      ]
     },
     "metadata": {},
     "output_type": "display_data"
    }
   ],
   "source": [
    "df.plot(kind='box',subplots=True, layout=(3,3),sharex=False, sharey=False)\n",
    "plt.show()"
   ]
  },
  {
   "cell_type": "code",
   "execution_count": 22,
   "metadata": {
    "scrolled": false
   },
   "outputs": [
    {
     "data": {
      "image/png": "[encoded data removed]",
      "text/plain": [
       "<Figure size 432x288 with 9 Axes>"
      ]
     },
     "metadata": {},
     "output_type": "display_data"
    }
   ],
   "source": [
    "df.hist()\n",
    "plt.show()"
   ]
  },
  {
   "cell_type": "code",
   "execution_count": 23,
   "metadata": {
    "scrolled": true
   },
   "outputs": [],
   "source": [
    "#ax = sns.countplot(y=\"CountB\", hue=\"who\", data=df)"
   ]
  },
  {
   "cell_type": "code",
   "execution_count": 24,
   "metadata": {},
   "outputs": [
    {
     "data": {
      "text/plain": [
       "<matplotlib.axes._subplots.AxesSubplot at 0x15a06e65d68>"
      ]
     },
     "execution_count": 24,
     "metadata": {},
     "output_type": "execute_result"
    },
    {
     "data": {
      "image/png": "[encoded data removed]",
      "text/plain": [
       "<Figure size 432x288 with 2 Axes>"
      ]
     },
     "metadata": {},
     "output_type": "display_data"
    }
   ],
   "source": [
    "sns.heatmap(df.corr())"
   ]
  },
  {
   "cell_type": "markdown",
   "metadata": {},
   "source": [
    "# model building"
   ]
  },
  {
   "cell_type": "code",
   "execution_count": 25,
   "metadata": {},
   "outputs": [],
   "source": [
    "x=df.drop('FeedBack',axis=1)\n",
    "y=df['FeedBack']\n",
    "from sklearn.model_selection import train_test_split\n",
    "\n",
    "# Split dataset into training set and test set\n",
    "X_train, X_test, y_train, y_test = train_test_split(x,y,test_size=0.3,random_state=109) # 70% training and 30% test"
   ]
  },
  {
   "cell_type": "code",
   "execution_count": 26,
   "metadata": {},
   "outputs": [
    {
     "name": "stdout",
     "output_type": "stream",
     "text": [
      "Accuracy: 0.75\n"
     ]
    }
   ],
   "source": [
    "#Import svm model\n",
    "from sklearn import svm\n",
    "\n",
    "#Create a svm Classifier\n",
    "clf = svm.SVC(kernel='linear') # Linear Kernel\n",
    "\n",
    "#Train the model using the training sets\n",
    "clf.fit(X_train, y_train)\n",
    "\n",
    "#Predict the response for test dataset\n",
    "y_pred = clf.predict(X_test)\n",
    "#Import scikit-learn metrics module for accuracy calculation\n",
    "from sklearn import metrics\n",
    "\n",
    "# Model Accuracy: how often is the classifier correct?\n",
    "print(\"Accuracy:\",metrics.accuracy_score(y_test, y_pred))"
   ]
  },
  {
   "cell_type": "markdown",
   "metadata": {},
   "source": [
    "#  Box  Plots Comparing Algorithm Performance"
   ]
  },
  {
   "cell_type": "code",
   "execution_count": 27,
   "metadata": {},
   "outputs": [],
   "source": [
    "import numpy \n",
    "from numpy import arange \n",
    "from matplotlib import pyplot \n",
    "from pandas import read_csv \n",
    "from pandas import set_option \n",
    "from pandas.tools.plotting import scatter_matrix \n",
    "from sklearn.preprocessing import StandardScaler \n",
    "from sklearn.model_selection import train_test_split \n",
    "from sklearn.model_selection import KFold \n",
    "from sklearn.model_selection import cross_val_score \n",
    "from sklearn.model_selection import GridSearchCV \n",
    "from sklearn.linear_model import LinearRegression \n",
    "from sklearn.linear_model import Lasso \n",
    "from sklearn.linear_model import ElasticNet \n",
    "from sklearn.tree import DecisionTreeRegressor \n",
    "from sklearn.neighbors import KNeighborsRegressor \n",
    "from sklearn.svm import SVC \n",
    "from sklearn.pipeline import Pipeline \n",
    "from sklearn.ensemble import RandomForestRegressor \n",
    "from sklearn.ensemble import GradientBoostingRegressor \n",
    "from sklearn.ensemble import ExtraTreesRegressor \n",
    "from sklearn.ensemble import AdaBoostRegressor \n",
    "from sklearn.metrics import mean_squared_error\n",
    "from sklearn.linear_model import LogisticRegression \n",
    "from sklearn.tree import DecisionTreeClassifier \n",
    "from sklearn.neighbors import KNeighborsClassifier \n",
    "from sklearn.discriminant_analysis import LinearDiscriminantAnalysis\n",
    "from sklearn.naive_bayes import GaussianNB \n"
   ]
  },
  {
   "cell_type": "code",
   "execution_count": 28,
   "metadata": {},
   "outputs": [],
   "source": [
    "# Test options and evaluation metric\n",
    "num_folds = 10\n",
    "seed = 7 \n",
    "scoring = 'accuracy'\n"
   ]
  },
  {
   "cell_type": "code",
   "execution_count": 29,
   "metadata": {},
   "outputs": [],
   "source": [
    "# Spot-Check Algorithms \n",
    "models = []\n",
    "models.append(('LR', LogisticRegression()))\n",
    "models.append(('LDA', LinearDiscriminantAnalysis()))\n",
    "models.append(('KNN', KNeighborsClassifier()))\n",
    "models.append(('CART', DecisionTreeClassifier())) \n",
    "models.append(('NB', GaussianNB()))\n",
    "models.append(('SVM', SVC()))\n"
   ]
  },
  {
   "cell_type": "code",
   "execution_count": 30,
   "metadata": {},
   "outputs": [
    {
     "name": "stdout",
     "output_type": "stream",
     "text": [
      "LR: 0.845000 (0.198053)\n",
      "LDA: 0.800000 (0.241868)\n",
      "KNN: 0.560000 (0.214243)\n",
      "CART: 0.720000 (0.259037)\n",
      "NB: 0.825000 (0.191377)"
     ]
    },
    {
     "name": "stderr",
     "output_type": "stream",
     "text": [
      "C:\\Users\\MANEESH\\anaconda\\lib\\site-packages\\sklearn\\discriminant_analysis.py:388: UserWarning: Variables are collinear.\n",
      "  warnings.warn(\"Variables are collinear.\")\n",
      "C:\\Users\\MANEESH\\anaconda\\lib\\site-packages\\sklearn\\discriminant_analysis.py:388: UserWarning: Variables are collinear.\n",
      "  warnings.warn(\"Variables are collinear.\")\n",
      "C:\\Users\\MANEESH\\anaconda\\lib\\site-packages\\sklearn\\discriminant_analysis.py:388: UserWarning: Variables are collinear.\n",
      "  warnings.warn(\"Variables are collinear.\")\n",
      "C:\\Users\\MANEESH\\anaconda\\lib\\site-packages\\sklearn\\discriminant_analysis.py:388: UserWarning: Variables are collinear.\n",
      "  warnings.warn(\"Variables are collinear.\")\n",
      "C:\\Users\\MANEESH\\anaconda\\lib\\site-packages\\sklearn\\discriminant_analysis.py:388: UserWarning: Variables are collinear.\n",
      "  warnings.warn(\"Variables are collinear.\")\n",
      "C:\\Users\\MANEESH\\anaconda\\lib\\site-packages\\sklearn\\discriminant_analysis.py:388: UserWarning: Variables are collinear.\n",
      "  warnings.warn(\"Variables are collinear.\")\n",
      "C:\\Users\\MANEESH\\anaconda\\lib\\site-packages\\sklearn\\discriminant_analysis.py:388: UserWarning: Variables are collinear.\n",
      "  warnings.warn(\"Variables are collinear.\")\n",
      "C:\\Users\\MANEESH\\anaconda\\lib\\site-packages\\sklearn\\discriminant_analysis.py:388: UserWarning: Variables are collinear.\n",
      "  warnings.warn(\"Variables are collinear.\")\n",
      "C:\\Users\\MANEESH\\anaconda\\lib\\site-packages\\sklearn\\discriminant_analysis.py:388: UserWarning: Variables are collinear.\n",
      "  warnings.warn(\"Variables are collinear.\")\n",
      "C:\\Users\\MANEESH\\anaconda\\lib\\site-packages\\sklearn\\discriminant_analysis.py:388: UserWarning: Variables are collinear.\n",
      "  warnings.warn(\"Variables are collinear.\")\n"
     ]
    },
    {
     "name": "stdout",
     "output_type": "stream",
     "text": [
      "\n",
      "SVM: 0.630000 (0.256125)\n"
     ]
    }
   ],
   "source": [
    "results = [] \n",
    "names = [] \n",
    "for name, model in models:\n",
    "    kfold = KFold(n_splits=num_folds, random_state=seed) \n",
    "    cv_results = cross_val_score(model, X_train, y_train, cv=kfold, scoring=scoring)\n",
    "    results.append(cv_results) \n",
    "    names.append(name) \n",
    "    msg = \"%s: %f (%f)\" % (name, cv_results.mean(), cv_results.std())\n",
    "    print(msg)\n"
   ]
  },
  {
   "cell_type": "code",
   "execution_count": 31,
   "metadata": {},
   "outputs": [
    {
     "name": "stdout",
     "output_type": "stream",
     "text": [
      "LR = LogisticRegression\n",
      "LDA = LinearDiscriminalysis\n",
      "KNN = KNeighborsClassifier\n",
      "CART = DecisionTreeClassifier\n",
      "NB = GaussianNB\n",
      "'SVM = SVC\n"
     ]
    },
    {
     "data": {
      "image/png": "[encoded data removed]",
      "text/plain": [
       "<Figure size 432x288 with 1 Axes>"
      ]
     },
     "metadata": {},
     "output_type": "display_data"
    }
   ],
   "source": [
    "# Compare Algorithms\n",
    "print(\"LR = LogisticRegression\")\n",
    "print(\"LDA = LinearDiscriminalysis\")\n",
    "print(\"KNN = KNeighborsClassifier\")\n",
    "print(\"CART = DecisionTreeClassifier\")\n",
    "print(\"NB = GaussianNB\")\n",
    "print(\"'SVM = SVC\")\n",
    "fig = pyplot.figure()\n",
    "fig.suptitle('Algorithm Comparison') \n",
    "ax = fig.add_subplot(111)\n",
    "pyplot.boxplot(results) \n",
    "ax.set_xticklabels(names) \n",
    "pyplot.show()\n"
   ]
  },
  {
   "cell_type": "markdown",
   "metadata": {},
   "source": [
    "# From these results, it would suggest that both logistic regression , linear discriminant analysis, GaussianNB are have higher accurecy more than KNN and  SVM."
   ]
  },
  {
   "cell_type": "code",
   "execution_count": null,
   "metadata": {},
   "outputs": [],
   "source": []
  }
 ],
 "metadata": {
  "kernelspec": {
   "display_name": "Python 3",
   "language": "python",
   "name": "python3"
  },
  "language_info": {
   "codemirror_mode": {
    "name": "ipython",
    "version": 3
   },
   "file_extension": ".py",
   "mimetype": "text/x-python",
   "name": "python",
   "nbconvert_exporter": "python",
   "pygments_lexer": "ipython3",
   "version": "3.6.5"
  }
 },
 "nbformat": 4,
 "nbformat_minor": 2
}
